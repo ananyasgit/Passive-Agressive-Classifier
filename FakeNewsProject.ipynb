{
  "nbformat": 4,
  "nbformat_minor": 0,
  "metadata": {
    "colab": {
      "provenance": [],
      "authorship_tag": "ABX9TyO74X31bajMyzLhGuNSb8MU",
      "include_colab_link": true
    },
    "kernelspec": {
      "name": "python3",
      "display_name": "Python 3"
    },
    "language_info": {
      "name": "python"
    },
    "gpuClass": "standard"
  },
  "cells": [
    {
      "cell_type": "markdown",
      "metadata": {
        "id": "view-in-github",
        "colab_type": "text"
      },
      "source": [
        "<a href=\"https://colab.research.google.com/github/ananyasgit/Passive-Agressive-Classifier/blob/main/FakeNewsProject.ipynb\" target=\"_parent\"><img src=\"https://colab.research.google.com/assets/colab-badge.svg\" alt=\"Open In Colab\"/></a>"
      ]
    },
    {
      "cell_type": "markdown",
      "source": [
        "Importing dependencies"
      ],
      "metadata": {
        "id": "iXumFuTIhDQG"
      }
    },
    {
      "cell_type": "code",
      "execution_count": 1,
      "metadata": {
        "id": "5vZIwt7nDqti",
        "colab": {
          "base_uri": "https://localhost:8080/"
        },
        "outputId": "9385d244-0ea9-426f-9f93-db72829a0e6f"
      },
      "outputs": [
        {
          "output_type": "stream",
          "name": "stderr",
          "text": [
            "[nltk_data] Downloading package punkt to /root/nltk_data...\n",
            "[nltk_data]   Package punkt is already up-to-date!\n",
            "[nltk_data] Downloading package stopwords to /root/nltk_data...\n",
            "[nltk_data]   Package stopwords is already up-to-date!\n",
            "[nltk_data] Downloading package wordnet to /root/nltk_data...\n",
            "[nltk_data]   Package wordnet is already up-to-date!\n"
          ]
        }
      ],
      "source": [
        "import pandas as pd\n",
        "import numpy as np\n",
        "import seaborn as sns\n",
        "import matplotlib.pyplot as plt\n",
        "import nltk\n",
        "nltk.download('punkt')\n",
        "nltk.download('stopwords')\n",
        "nltk.download('wordnet')\n",
        "from nltk.util import ngrams\n",
        "from nltk.corpus import stopwords\n",
        "from wordcloud import WordCloud,STOPWORDS\n",
        "from nltk.stem import WordNetLemmatizer\n",
        "from nltk.tokenize import word_tokenize,sent_tokenize\n",
        "from bs4 import BeautifulSoup\n",
        "import re,string,unicodedata\n",
        "from sklearn.feature_extraction.text import TfidfVectorizer\n",
        "from nltk.stem.porter import PorterStemmer"
      ]
    },
    {
      "cell_type": "markdown",
      "source": [
        "Reading the dataset"
      ],
      "metadata": {
        "id": "L9lpAIPxhCLC"
      }
    },
    {
      "cell_type": "code",
      "source": [
        "news_df=pd.read_csv(\"news_dataset.csv\", engine='python',encoding='utf-8', error_bad_lines=False)\n",
        "news_df\n"
      ],
      "metadata": {
        "id": "nPmtGWqHEnIK",
        "colab": {
          "base_uri": "https://localhost:8080/",
          "height": 493
        },
        "outputId": "39f69248-ee83-4df7-88cd-c9ea9724ce63"
      },
      "execution_count": 2,
      "outputs": [
        {
          "output_type": "stream",
          "name": "stderr",
          "text": [
            "/usr/local/lib/python3.7/dist-packages/IPython/core/interactiveshell.py:3326: FutureWarning: The error_bad_lines argument has been deprecated and will be removed in a future version.\n",
            "\n",
            "\n",
            "  exec(code_obj, self.user_global_ns, self.user_ns)\n"
          ]
        },
        {
          "output_type": "execute_result",
          "data": {
            "text/plain": [
              "     label                                               text\n",
              "0     REAL  Payal has accused filmmaker Anurag Kashyap of ...\n",
              "1     FAKE  A four-minute-long video of a woman criticisin...\n",
              "2     FAKE  Republic Poll, a fake Twitter account imitatin...\n",
              "3     REAL  Delhi teen finds place on UN green list, turns...\n",
              "4     REAL  Delhi: A high-level meeting underway at reside...\n",
              "...    ...                                                ...\n",
              "3724  REAL  19:17 (IST) Sep 20\\n\\nThe second round of coun...\n",
              "3725  REAL  19:17 (IST) Sep 20\\n\\nThe second round of coun...\n",
              "3726  FAKE  The Bengaluru City Police’s official Twitter h...\n",
              "3727  REAL  Sep 20, 2020, 08:00AM IST\\n\\nSource: TOI.in\\n\\...\n",
              "3728  REAL  Read Also\\n\\nRead Also\\n\\nAdvocate Ishkaran Bh...\n",
              "\n",
              "[3729 rows x 2 columns]"
            ],
            "text/html": [
              "\n",
              "  <div id=\"df-128f2e14-8fe9-4234-b76e-4cf5f106ae62\">\n",
              "    <div class=\"colab-df-container\">\n",
              "      <div>\n",
              "<style scoped>\n",
              "    .dataframe tbody tr th:only-of-type {\n",
              "        vertical-align: middle;\n",
              "    }\n",
              "\n",
              "    .dataframe tbody tr th {\n",
              "        vertical-align: top;\n",
              "    }\n",
              "\n",
              "    .dataframe thead th {\n",
              "        text-align: right;\n",
              "    }\n",
              "</style>\n",
              "<table border=\"1\" class=\"dataframe\">\n",
              "  <thead>\n",
              "    <tr style=\"text-align: right;\">\n",
              "      <th></th>\n",
              "      <th>label</th>\n",
              "      <th>text</th>\n",
              "    </tr>\n",
              "  </thead>\n",
              "  <tbody>\n",
              "    <tr>\n",
              "      <th>0</th>\n",
              "      <td>REAL</td>\n",
              "      <td>Payal has accused filmmaker Anurag Kashyap of ...</td>\n",
              "    </tr>\n",
              "    <tr>\n",
              "      <th>1</th>\n",
              "      <td>FAKE</td>\n",
              "      <td>A four-minute-long video of a woman criticisin...</td>\n",
              "    </tr>\n",
              "    <tr>\n",
              "      <th>2</th>\n",
              "      <td>FAKE</td>\n",
              "      <td>Republic Poll, a fake Twitter account imitatin...</td>\n",
              "    </tr>\n",
              "    <tr>\n",
              "      <th>3</th>\n",
              "      <td>REAL</td>\n",
              "      <td>Delhi teen finds place on UN green list, turns...</td>\n",
              "    </tr>\n",
              "    <tr>\n",
              "      <th>4</th>\n",
              "      <td>REAL</td>\n",
              "      <td>Delhi: A high-level meeting underway at reside...</td>\n",
              "    </tr>\n",
              "    <tr>\n",
              "      <th>...</th>\n",
              "      <td>...</td>\n",
              "      <td>...</td>\n",
              "    </tr>\n",
              "    <tr>\n",
              "      <th>3724</th>\n",
              "      <td>REAL</td>\n",
              "      <td>19:17 (IST) Sep 20\\n\\nThe second round of coun...</td>\n",
              "    </tr>\n",
              "    <tr>\n",
              "      <th>3725</th>\n",
              "      <td>REAL</td>\n",
              "      <td>19:17 (IST) Sep 20\\n\\nThe second round of coun...</td>\n",
              "    </tr>\n",
              "    <tr>\n",
              "      <th>3726</th>\n",
              "      <td>FAKE</td>\n",
              "      <td>The Bengaluru City Police’s official Twitter h...</td>\n",
              "    </tr>\n",
              "    <tr>\n",
              "      <th>3727</th>\n",
              "      <td>REAL</td>\n",
              "      <td>Sep 20, 2020, 08:00AM IST\\n\\nSource: TOI.in\\n\\...</td>\n",
              "    </tr>\n",
              "    <tr>\n",
              "      <th>3728</th>\n",
              "      <td>REAL</td>\n",
              "      <td>Read Also\\n\\nRead Also\\n\\nAdvocate Ishkaran Bh...</td>\n",
              "    </tr>\n",
              "  </tbody>\n",
              "</table>\n",
              "<p>3729 rows × 2 columns</p>\n",
              "</div>\n",
              "      <button class=\"colab-df-convert\" onclick=\"convertToInteractive('df-128f2e14-8fe9-4234-b76e-4cf5f106ae62')\"\n",
              "              title=\"Convert this dataframe to an interactive table.\"\n",
              "              style=\"display:none;\">\n",
              "        \n",
              "  <svg xmlns=\"http://www.w3.org/2000/svg\" height=\"24px\"viewBox=\"0 0 24 24\"\n",
              "       width=\"24px\">\n",
              "    <path d=\"M0 0h24v24H0V0z\" fill=\"none\"/>\n",
              "    <path d=\"M18.56 5.44l.94 2.06.94-2.06 2.06-.94-2.06-.94-.94-2.06-.94 2.06-2.06.94zm-11 1L8.5 8.5l.94-2.06 2.06-.94-2.06-.94L8.5 2.5l-.94 2.06-2.06.94zm10 10l.94 2.06.94-2.06 2.06-.94-2.06-.94-.94-2.06-.94 2.06-2.06.94z\"/><path d=\"M17.41 7.96l-1.37-1.37c-.4-.4-.92-.59-1.43-.59-.52 0-1.04.2-1.43.59L10.3 9.45l-7.72 7.72c-.78.78-.78 2.05 0 2.83L4 21.41c.39.39.9.59 1.41.59.51 0 1.02-.2 1.41-.59l7.78-7.78 2.81-2.81c.8-.78.8-2.07 0-2.86zM5.41 20L4 18.59l7.72-7.72 1.47 1.35L5.41 20z\"/>\n",
              "  </svg>\n",
              "      </button>\n",
              "      \n",
              "  <style>\n",
              "    .colab-df-container {\n",
              "      display:flex;\n",
              "      flex-wrap:wrap;\n",
              "      gap: 12px;\n",
              "    }\n",
              "\n",
              "    .colab-df-convert {\n",
              "      background-color: #E8F0FE;\n",
              "      border: none;\n",
              "      border-radius: 50%;\n",
              "      cursor: pointer;\n",
              "      display: none;\n",
              "      fill: #1967D2;\n",
              "      height: 32px;\n",
              "      padding: 0 0 0 0;\n",
              "      width: 32px;\n",
              "    }\n",
              "\n",
              "    .colab-df-convert:hover {\n",
              "      background-color: #E2EBFA;\n",
              "      box-shadow: 0px 1px 2px rgba(60, 64, 67, 0.3), 0px 1px 3px 1px rgba(60, 64, 67, 0.15);\n",
              "      fill: #174EA6;\n",
              "    }\n",
              "\n",
              "    [theme=dark] .colab-df-convert {\n",
              "      background-color: #3B4455;\n",
              "      fill: #D2E3FC;\n",
              "    }\n",
              "\n",
              "    [theme=dark] .colab-df-convert:hover {\n",
              "      background-color: #434B5C;\n",
              "      box-shadow: 0px 1px 3px 1px rgba(0, 0, 0, 0.15);\n",
              "      filter: drop-shadow(0px 1px 2px rgba(0, 0, 0, 0.3));\n",
              "      fill: #FFFFFF;\n",
              "    }\n",
              "  </style>\n",
              "\n",
              "      <script>\n",
              "        const buttonEl =\n",
              "          document.querySelector('#df-128f2e14-8fe9-4234-b76e-4cf5f106ae62 button.colab-df-convert');\n",
              "        buttonEl.style.display =\n",
              "          google.colab.kernel.accessAllowed ? 'block' : 'none';\n",
              "\n",
              "        async function convertToInteractive(key) {\n",
              "          const element = document.querySelector('#df-128f2e14-8fe9-4234-b76e-4cf5f106ae62');\n",
              "          const dataTable =\n",
              "            await google.colab.kernel.invokeFunction('convertToInteractive',\n",
              "                                                     [key], {});\n",
              "          if (!dataTable) return;\n",
              "\n",
              "          const docLinkHtml = 'Like what you see? Visit the ' +\n",
              "            '<a target=\"_blank\" href=https://colab.research.google.com/notebooks/data_table.ipynb>data table notebook</a>'\n",
              "            + ' to learn more about interactive tables.';\n",
              "          element.innerHTML = '';\n",
              "          dataTable['output_type'] = 'display_data';\n",
              "          await google.colab.output.renderOutput(dataTable, element);\n",
              "          const docLink = document.createElement('div');\n",
              "          docLink.innerHTML = docLinkHtml;\n",
              "          element.appendChild(docLink);\n",
              "        }\n",
              "      </script>\n",
              "    </div>\n",
              "  </div>\n",
              "  "
            ]
          },
          "metadata": {},
          "execution_count": 2
        }
      ]
    },
    {
      "cell_type": "code",
      "source": [
        "news_text=news_df['text']\n",
        "news_text"
      ],
      "metadata": {
        "id": "gkN_7YrFZWWA",
        "colab": {
          "base_uri": "https://localhost:8080/"
        },
        "outputId": "d473c248-157e-45dd-f878-9a0f422f1993"
      },
      "execution_count": 3,
      "outputs": [
        {
          "output_type": "execute_result",
          "data": {
            "text/plain": [
              "0       Payal has accused filmmaker Anurag Kashyap of ...\n",
              "1       A four-minute-long video of a woman criticisin...\n",
              "2       Republic Poll, a fake Twitter account imitatin...\n",
              "3       Delhi teen finds place on UN green list, turns...\n",
              "4       Delhi: A high-level meeting underway at reside...\n",
              "                              ...                        \n",
              "3724    19:17 (IST) Sep 20\\n\\nThe second round of coun...\n",
              "3725    19:17 (IST) Sep 20\\n\\nThe second round of coun...\n",
              "3726    The Bengaluru City Police’s official Twitter h...\n",
              "3727    Sep 20, 2020, 08:00AM IST\\n\\nSource: TOI.in\\n\\...\n",
              "3728    Read Also\\n\\nRead Also\\n\\nAdvocate Ishkaran Bh...\n",
              "Name: text, Length: 3729, dtype: object"
            ]
          },
          "metadata": {},
          "execution_count": 3
        }
      ]
    },
    {
      "cell_type": "markdown",
      "source": [
        "Cleaning the text"
      ],
      "metadata": {
        "id": "vY-KHoImhROU"
      }
    },
    {
      "cell_type": "code",
      "source": [
        "news_df['text']=news_df['text'].apply(str)"
      ],
      "metadata": {
        "id": "MHpMNbHXY2lv"
      },
      "execution_count": 4,
      "outputs": []
    },
    {
      "cell_type": "code",
      "source": [
        "news_df['text']= news_df['text'].apply((lambda y:re.sub(\"http://\\S+\",\" \", y)))\n",
        "news_df['text']= news_df['text'].apply((lambda x:re.sub(\"\\@\", \" \",x.lower())))\n",
        "news_df['text']= news_df['text'].apply((lambda z:re.sub(r'[^\\w\\s]', '', z)))\n",
        "news_df['text']= news_df['text'].apply((lambda w:re.sub(\"[0-9]\", \"\", w)))\n",
        "news_df['text']= news_df['text'].apply((lambda v:re.sub(\"\\n\", \"\", v)))\n",
        "\n",
        "news_df['text']"
      ],
      "metadata": {
        "id": "uAPai6zERjd3",
        "colab": {
          "base_uri": "https://localhost:8080/"
        },
        "outputId": "207d3316-13ac-4629-dee5-7d163db1cf1d"
      },
      "execution_count": 5,
      "outputs": [
        {
          "output_type": "execute_result",
          "data": {
            "text/plain": [
              "0       payal has accused filmmaker anurag kashyap of ...\n",
              "1       a fourminutelong video of a woman criticising ...\n",
              "2       republic poll a fake twitter account imitating...\n",
              "3       delhi teen finds place on un green list turns ...\n",
              "4       delhi a highlevel meeting underway at residenc...\n",
              "                              ...                        \n",
              "3724     ist sep the second round of countrywide seros...\n",
              "3725     ist sep the second round of countrywide seros...\n",
              "3726    the bengaluru city polices official twitter ha...\n",
              "3727    sep   am istsource toiinmeet neelkantha bhanu ...\n",
              "3728    read alsoread alsoadvocate ishkaran bhandari r...\n",
              "Name: text, Length: 3729, dtype: object"
            ]
          },
          "metadata": {},
          "execution_count": 5
        }
      ]
    },
    {
      "cell_type": "code",
      "source": [
        "news_df['text'][1]"
      ],
      "metadata": {
        "colab": {
          "base_uri": "https://localhost:8080/",
          "height": 123
        },
        "id": "jHXEYxrdgmhk",
        "outputId": "16062be4-73cb-4630-a608-43575e2fa83c"
      },
      "execution_count": 6,
      "outputs": [
        {
          "output_type": "execute_result",
          "data": {
            "text/plain": [
              "'a fourminutelong video of a woman criticising the government at an anticitizenship amendment act rally in delhi earlier in january is going viral with a false claim that the woman shows late prime minister atal bihari vajpayees niecethe caption in hindi translates to  respected vajpayee jis niece has finally broken her silence listen to what she has to saytranslated from hindi मननय वजपय ज क भतज न आखरकर तड चपप  जनए कय कहalso read muslim politician disguised as a hindu in anticaa proteststhe video comes at a time when protests against the citizenship amendment act and a proposed national register of citizens have gone unabated for over a monthin the video the woman can be seen saying the following in hindithey britishers did a lot of bad but at least they were outsiders first of all they were not ours they were not from this land they came from afar and came here to do this but still the difference between them indian government and britishers was that they britishers were educated they were not this illiterate at least they didnt do this with britishers that the government is doing with its own people why cant they understand they are indian they should talk about india they tell congress they tell others they tell us  why are you silent about pakistan are we crazy that we should talk about pakistan are you not enough to talk about pakistan you are obsessed with pakistan you cant think of anything else besides pakistan whenever you speak you always speak about pakistan who will talk about india pakistanis did not elect you we elected you and we regret electing youboom also received the same video on its helpline from a user asking about its veracitythe video received on the whatsapp helplinethe video is also viral on facebookalso read nehru indira gandhis archival image goes viral with false claimfact checkboom ran a reverse image search and found that the video was uploaded by several youtube channels nearly a week ago the captions on the video identified the woman as atiya alviwe also noticed that the boom mic held in the video showed a logo of hnp news and found the video on their youtube channel uploaded on january  furthermore we found a post by one naziya alvi rahman who posted that the woman in the video was her sister atiya alvinaziya alvi wrote this is exactly how fake news spreads read the caption below i so badly wish it was true but it isnt she is my humble sister atiya alvi siddiquiboom contacted atiya alvi through facebook she confirmed that the woman in the video was her i had gone to mandi house for a protest and thats where this interview happened atiya told boom she also said she wouldnt describe herself as an activist but rather a concerned citizenatal bihari vajpayees niece karuna shuklaatal bihari vajpayees niece is karuna shukla who does not look like atiya alvi siddiqui and is yearold congress fielded shukla in  for the vidhansabha election from rajnandgaon in chattisgarh karuna shukla was a member of parliament and was a member of the bharatiya janata party but left the bjp post she has been vocal about state and other issues and accused the bjp of using atal bihari vajpayees death for political gains in the lok sabha elections of '"
            ],
            "application/vnd.google.colaboratory.intrinsic+json": {
              "type": "string"
            }
          },
          "metadata": {},
          "execution_count": 6
        }
      ]
    },
    {
      "cell_type": "code",
      "source": [
        "#For removing hindi characters from the dataset\n",
        "news_df['text'] = news_df['text'].apply(lambda q:re.sub(\"([^\\x900-\\x97F])+\",\" \",q))"
      ],
      "metadata": {
        "id": "jLog7RWJFWmE"
      },
      "execution_count": 7,
      "outputs": []
    },
    {
      "cell_type": "code",
      "source": [
        "news_df['text'][1] #hindi characters successfully removed "
      ],
      "metadata": {
        "colab": {
          "base_uri": "https://localhost:8080/",
          "height": 123
        },
        "id": "QRwC82IUg1lW",
        "outputId": "0d8fc63d-0ea8-415b-95b6-e0e8794a8d16"
      },
      "execution_count": 8,
      "outputs": [
        {
          "output_type": "execute_result",
          "data": {
            "text/plain": [
              "'a fourminutelong video of a woman criticising the government at an anticitizenship amendment act rally in delhi earlier in january is going viral with a false claim that the woman shows late prime minister atal bihari vajpayees niecethe caption in hindi translates to respected vajpayee jis niece has finally broken her silence listen to what she has to saytranslated from hindi also read muslim politician disguised as a hindu in anticaa proteststhe video comes at a time when protests against the citizenship amendment act and a proposed national register of citizens have gone unabated for over a monthin the video the woman can be seen saying the following in hindithey britishers did a lot of bad but at least they were outsiders first of all they were not ours they were not from this land they came from afar and came here to do this but still the difference between them indian government and britishers was that they britishers were educated they were not this illiterate at least they didnt do this with britishers that the government is doing with its own people why cant they understand they are indian they should talk about india they tell congress they tell others they tell us why are you silent about pakistan are we crazy that we should talk about pakistan are you not enough to talk about pakistan you are obsessed with pakistan you cant think of anything else besides pakistan whenever you speak you always speak about pakistan who will talk about india pakistanis did not elect you we elected you and we regret electing youboom also received the same video on its helpline from a user asking about its veracitythe video received on the whatsapp helplinethe video is also viral on facebookalso read nehru indira gandhis archival image goes viral with false claimfact checkboom ran a reverse image search and found that the video was uploaded by several youtube channels nearly a week ago the captions on the video identified the woman as atiya alviwe also noticed that the boom mic held in the video showed a logo of hnp news and found the video on their youtube channel uploaded on january furthermore we found a post by one naziya alvi rahman who posted that the woman in the video was her sister atiya alvinaziya alvi wrote this is exactly how fake news spreads read the caption below i so badly wish it was true but it isnt she is my humble sister atiya alvi siddiquiboom contacted atiya alvi through facebook she confirmed that the woman in the video was her i had gone to mandi house for a protest and thats where this interview happened atiya told boom she also said she wouldnt describe herself as an activist but rather a concerned citizenatal bihari vajpayees niece karuna shuklaatal bihari vajpayees niece is karuna shukla who does not look like atiya alvi siddiqui and is yearold congress fielded shukla in for the vidhansabha election from rajnandgaon in chattisgarh karuna shukla was a member of parliament and was a member of the bharatiya janata party but left the bjp post she has been vocal about state and other issues and accused the bjp of using atal bihari vajpayees death for political gains in the lok sabha elections of '"
            ],
            "application/vnd.google.colaboratory.intrinsic+json": {
              "type": "string"
            }
          },
          "metadata": {},
          "execution_count": 8
        }
      ]
    },
    {
      "cell_type": "code",
      "source": [
        "stop = stopwords.words('english')\n",
        "news_df['text']= news_df['text'].apply(lambda x: ' '.join([word for word in x.split() if word not in stop]))\n",
        "news_df['text']\n"
      ],
      "metadata": {
        "id": "yQbkMPeXS9Qr",
        "colab": {
          "base_uri": "https://localhost:8080/"
        },
        "outputId": "5bbc11e8-5885-4305-a2ab-472dce7dfea5"
      },
      "execution_count": 9,
      "outputs": [
        {
          "output_type": "execute_result",
          "data": {
            "text/plain": [
              "0       payal accused filmmaker anurag kashyap behavin...\n",
              "1       fourminutelong video woman criticising governm...\n",
              "2       republic poll fake twitter account imitating a...\n",
              "3       delhi teen finds place un green list turns gla...\n",
              "4       delhi highlevel meeting underway residence raj...\n",
              "                              ...                        \n",
              "3724    ist sep second round countrywide serosurvey le...\n",
              "3725    ist sep second round countrywide serosurvey le...\n",
              "3726    bengaluru city polices official twitter handle...\n",
              "3727    sep istsource toiinmeet neelkantha bhanu praka...\n",
              "3728    read alsoread alsoadvocate ishkaran bhandari r...\n",
              "Name: text, Length: 3729, dtype: object"
            ]
          },
          "metadata": {},
          "execution_count": 9
        }
      ]
    },
    {
      "cell_type": "code",
      "source": [
        "#print(news_df.text.apply(word_tokenize))"
      ],
      "metadata": {
        "id": "Jdq_k_D2V-I2"
      },
      "execution_count": 10,
      "outputs": []
    },
    {
      "cell_type": "code",
      "source": [
        "ps = PorterStemmer()\n",
        "corpus = []\n",
        "review = [ps.stem(word) for word in news_df['text']if not word in stopwords.words('english')]\n",
        "review = ' '.join(review)\n",
        "corpus.append(review)"
      ],
      "metadata": {
        "id": "M2fiI-2NwyMm"
      },
      "execution_count": 11,
      "outputs": []
    },
    {
      "cell_type": "code",
      "source": [
        "labels=news_df.label\n",
        "labels.head()"
      ],
      "metadata": {
        "id": "ZrOadNVkhJfx",
        "colab": {
          "base_uri": "https://localhost:8080/"
        },
        "outputId": "559dad90-7ddc-4f5f-da7b-9b8d6d1184fd"
      },
      "execution_count": 12,
      "outputs": [
        {
          "output_type": "execute_result",
          "data": {
            "text/plain": [
              "0    REAL\n",
              "1    FAKE\n",
              "2    FAKE\n",
              "3    REAL\n",
              "4    REAL\n",
              "Name: label, dtype: object"
            ]
          },
          "metadata": {},
          "execution_count": 12
        }
      ]
    },
    {
      "cell_type": "markdown",
      "source": [
        "Training and testing"
      ],
      "metadata": {
        "id": "bSZsmoTIhYGn"
      }
    },
    {
      "cell_type": "code",
      "source": [
        "from sklearn.model_selection import train_test_split\n",
        "x_train,x_test,y_train,y_test=train_test_split(news_df['text'], labels, test_size=0.2, random_state=7)"
      ],
      "metadata": {
        "id": "XojU_vihxdKx"
      },
      "execution_count": 13,
      "outputs": []
    },
    {
      "cell_type": "code",
      "source": [
        "#initialize a TfidfVectorizer\n",
        "tfidf_vectorizer=TfidfVectorizer(stop_words='english', max_df=0.7)\n",
        "#Fit and transform train set, transform test set\n",
        "tfidf_train=tfidf_vectorizer.fit_transform(x_train) \n",
        "tfidf_test=tfidf_vectorizer.transform(x_test)"
      ],
      "metadata": {
        "id": "BOuxh2wPhfjg"
      },
      "execution_count": 14,
      "outputs": []
    },
    {
      "cell_type": "code",
      "source": [
        "from sklearn.linear_model import PassiveAggressiveClassifier\n",
        "from sklearn.metrics import accuracy_score, confusion_matrix\n",
        "pac=PassiveAggressiveClassifier(max_iter=100)\n",
        "pac.fit(tfidf_train,y_train)\n",
        "#Predict on the test set and calculate accuracy\n",
        "y_pred=pac.predict(tfidf_test)\n",
        "score=accuracy_score(y_test,y_pred)\n",
        "print(f'Accuracy: {round(score*100,2)}%')"
      ],
      "metadata": {
        "id": "Ckqoo_EshkFq",
        "colab": {
          "base_uri": "https://localhost:8080/"
        },
        "outputId": "582d73c5-4976-4015-f1b3-026f8f587fad"
      },
      "execution_count": 15,
      "outputs": [
        {
          "output_type": "stream",
          "name": "stdout",
          "text": [
            "Accuracy: 99.73%\n"
          ]
        }
      ]
    },
    {
      "cell_type": "code",
      "source": [
        "confusion_matrix(y_test,y_pred, labels=['FAKE','REAL'])"
      ],
      "metadata": {
        "id": "pdjSScxJh2tk",
        "colab": {
          "base_uri": "https://localhost:8080/"
        },
        "outputId": "d4e4cb65-0647-4cd1-d555-8af409be73b0"
      },
      "execution_count": 16,
      "outputs": [
        {
          "output_type": "execute_result",
          "data": {
            "text/plain": [
              "array([[357,   1],\n",
              "       [  1, 387]])"
            ]
          },
          "metadata": {},
          "execution_count": 16
        }
      ]
    },
    {
      "cell_type": "code",
      "source": [
        "# Tokenization\n",
        "review = re.sub('[^a-zA-Z]', ' ', news_df['text'][1])\n",
        "review = review.lower()\n",
        "review = review.split() \n",
        "review = [ps.stem(word) for word in review if not word in stopwords.words('english')]\n",
        "review = ' '.join(review)\n",
        "# Vectorization \n",
        "val = tfidf_vectorizer.transform([review]).toarray()\n",
        "# Predict \n",
        "pac.predict(val)"
      ],
      "metadata": {
        "id": "qjcBUMx6mxNQ",
        "colab": {
          "base_uri": "https://localhost:8080/"
        },
        "outputId": "9640a794-7215-4fb6-b8e1-f7095007e4b1"
      },
      "execution_count": 17,
      "outputs": [
        {
          "output_type": "execute_result",
          "data": {
            "text/plain": [
              "array(['FAKE'], dtype='<U4')"
            ]
          },
          "metadata": {},
          "execution_count": 17
        }
      ]
    },
    {
      "cell_type": "markdown",
      "source": [
        "Pickling the model"
      ],
      "metadata": {
        "id": "esBlljH7hvfT"
      }
    },
    {
      "cell_type": "code",
      "source": [
        "import pickle\n",
        "pickle.dump(pac, open('model.pkl', 'wb'))\n",
        "pickle.dump(tfidf_vectorizer, open('tfidfvect.pkl', 'wb'))"
      ],
      "metadata": {
        "id": "v7R2G7L-oqPV"
      },
      "execution_count": 18,
      "outputs": []
    },
    {
      "cell_type": "code",
      "source": [
        "joblib_model = pickle.load(open('model.pkl', 'rb'))\n",
        "joblib_vect = pickle.load(open('tfidfvect.pkl', 'rb'))\n",
        "val_pkl = joblib_vect.transform([review]).toarray()\n",
        "joblib_model.predict(val_pkl)"
      ],
      "metadata": {
        "id": "aYyXwdXEo3wQ",
        "colab": {
          "base_uri": "https://localhost:8080/"
        },
        "outputId": "fb7d3525-d763-4fe3-ddbf-6021dabbc05d"
      },
      "execution_count": 19,
      "outputs": [
        {
          "output_type": "execute_result",
          "data": {
            "text/plain": [
              "array(['FAKE'], dtype='<U4')"
            ]
          },
          "metadata": {},
          "execution_count": 19
        }
      ]
    }
  ]
}